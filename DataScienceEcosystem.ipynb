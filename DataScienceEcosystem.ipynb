{
 "cells": [
  {
   "cell_type": "markdown",
   "id": "493d0f15-f9de-4f37-9602-c38a341360d9",
   "metadata": {},
   "source": [
    "# Data Science Ecosystem"
   ]
  },
  {
   "cell_type": "markdown",
   "id": "70280e9a-70da-496c-87f7-d99520a39fb3",
   "metadata": {},
   "source": [
    "In this notebook, Data Science Tools and Ecosystem are summarized."
   ]
  },
  {
   "cell_type": "markdown",
   "id": "51ed7713-2d1f-43ef-aed5-9b609e6f039d",
   "metadata": {},
   "source": [
    "Some of the popular languages that Data Scientists use are: \n",
    "1. Julia\n",
    "2. Python\n",
    "3. R"
   ]
  },
  {
   "cell_type": "markdown",
   "id": "3d9b016e-30e0-480b-98dd-3aca5d5c1806",
   "metadata": {},
   "source": [
    "Some of the commonly used libraries used by Data Scientists include:\n",
    "\n",
    "1. pandas\n",
    "2. numpy\n",
    "3. matplotlib"
   ]
  },
  {
   "cell_type": "markdown",
   "id": "46615092-fef0-48d7-b4c7-c0385fdf73f9",
   "metadata": {},
   "source": [
    "| Data Science Tools |\n",
    "|:--------:|\n",
    "| Anaconda  | \n",
    "| Jupyter notebooks|\n",
    "| R Studio |\n",
    "| Spyder |\n",
    "| Zeppelin |"
   ]
  },
  {
   "cell_type": "markdown",
   "id": "4c31e94d-e6f3-465f-88c9-a8aceb5b9ecc",
   "metadata": {},
   "source": [
    "### Below are a few examples of evaluating arithmetic expressions in Python.\n"
   ]
  },
  {
   "cell_type": "code",
   "execution_count": 18,
   "id": "40cfa29e-bf86-4adc-bb2d-375dd79df226",
   "metadata": {},
   "outputs": [
    {
     "data": {
      "text/plain": [
       "17"
      ]
     },
     "execution_count": 18,
     "metadata": {},
     "output_type": "execute_result"
    }
   ],
   "source": [
    "# This a simple arithmetic expression to mutiply then add integers.\n",
    "\n",
    "(3*4)+5"
   ]
  },
  {
   "cell_type": "code",
   "execution_count": 19,
   "id": "31bb6d66-8728-4d0c-9c9a-2254789bacbf",
   "metadata": {},
   "outputs": [
    {
     "name": "stdout",
     "output_type": "stream",
     "text": [
      "200 minutes eqaul to 3.33 hours\n"
     ]
    }
   ],
   "source": [
    "#  This will convert 200 minutes to hours by diving by 60.\n",
    "minute = 200\n",
    "hours = minute/60\n",
    "\n",
    "print(f'{minute} minutes eqaul to {hours:.2f} hours')"
   ]
  },
  {
   "cell_type": "markdown",
   "id": "d2dada8e-26e5-4763-97ad-dc9f172122f7",
   "metadata": {},
   "source": [
    "**Objectives:**\n",
    "- Data Science Language\n",
    "- Data Science Libraries\n",
    "- Data Science Tools\n",
    "- Arithmetic operation"
   ]
  },
  {
   "cell_type": "markdown",
   "id": "2052d60f-93cd-4fcf-bd67-a82a5306ed1d",
   "metadata": {},
   "source": [
    "## Author\n",
    "Pheerasu Phoodeethip"
   ]
  }
 ],
 "metadata": {
  "kernelspec": {
   "display_name": "Python 3 (ipykernel)",
   "language": "python",
   "name": "python3"
  },
  "language_info": {
   "codemirror_mode": {
    "name": "ipython",
    "version": 3
   },
   "file_extension": ".py",
   "mimetype": "text/x-python",
   "name": "python",
   "nbconvert_exporter": "python",
   "pygments_lexer": "ipython3",
   "version": "3.12.8"
  }
 },
 "nbformat": 4,
 "nbformat_minor": 5
}
